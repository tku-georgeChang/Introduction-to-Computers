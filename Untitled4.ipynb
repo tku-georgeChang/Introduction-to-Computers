{
  "nbformat": 4,
  "nbformat_minor": 0,
  "metadata": {
    "colab": {
      "provenance": [],
      "authorship_tag": "ABX9TyMD+iyFF/8w6yRjwgb9HU52",
      "include_colab_link": true
    },
    "kernelspec": {
      "name": "python3",
      "display_name": "Python 3"
    },
    "language_info": {
      "name": "python"
    }
  },
  "cells": [
    {
      "cell_type": "markdown",
      "metadata": {
        "id": "view-in-github",
        "colab_type": "text"
      },
      "source": [
        "<a href=\"https://colab.research.google.com/github/tku-georgeChang/Introduction-to-Computers/blob/main/Untitled4.ipynb\" target=\"_parent\"><img src=\"https://colab.research.google.com/assets/colab-badge.svg\" alt=\"Open In Colab\"/></a>"
      ]
    },
    {
      "cell_type": "code",
      "execution_count": 1,
      "metadata": {
        "colab": {
          "base_uri": "https://localhost:8080/"
        },
        "id": "yk8n0_IU4OHx",
        "outputId": "4e7ff2c6-e423-4c46-882e-73e6690de508"
      },
      "outputs": [
        {
          "output_type": "stream",
          "name": "stdout",
          "text": [
            "0501\n"
          ]
        }
      ],
      "source": [
        "print(\"0501\")"
      ]
    },
    {
      "cell_type": "code",
      "source": [
        "print(\"Hello World\")"
      ],
      "metadata": {
        "colab": {
          "base_uri": "https://localhost:8080/"
        },
        "id": "RVFISUGp4Ymc",
        "outputId": "d75cc43c-68a6-45fa-d88c-493bb03e3be4"
      },
      "execution_count": 2,
      "outputs": [
        {
          "output_type": "stream",
          "name": "stdout",
          "text": [
            "Hello World\n"
          ]
        }
      ]
    },
    {
      "cell_type": "code",
      "source": [
        "F = int(input(\"華氏溫度為:\"))"
      ],
      "metadata": {
        "colab": {
          "base_uri": "https://localhost:8080/"
        },
        "id": "rg1ztBMb4eaz",
        "outputId": "1760f522-49f5-41c1-f1c5-24241fada5e9"
      },
      "execution_count": 3,
      "outputs": [
        {
          "name": "stdout",
          "output_type": "stream",
          "text": [
            "華氏溫度為:100\n"
          ]
        }
      ]
    },
    {
      "cell_type": "code",
      "source": [
        "攝氏溫度 = (F-32)*5/9"
      ],
      "metadata": {
        "id": "TFSXDZBN4n0b"
      },
      "execution_count": 5,
      "outputs": []
    },
    {
      "cell_type": "code",
      "source": [
        "攝氏溫度"
      ],
      "metadata": {
        "colab": {
          "base_uri": "https://localhost:8080/"
        },
        "id": "JehtI6T44o3K",
        "outputId": "52aa23c5-ee57-482b-db0f-5b9be88ec2e5"
      },
      "execution_count": 6,
      "outputs": [
        {
          "output_type": "execute_result",
          "data": {
            "text/plain": [
              "37.77777777777778"
            ]
          },
          "metadata": {},
          "execution_count": 6
        }
      ]
    },
    {
      "cell_type": "code",
      "source": [
        "print(type(攝氏溫度))"
      ],
      "metadata": {
        "colab": {
          "base_uri": "https://localhost:8080/"
        },
        "id": "z1bmH1sK4q_C",
        "outputId": "f962b825-212e-41f2-831e-bc5987a8904e"
      },
      "execution_count": 7,
      "outputs": [
        {
          "output_type": "stream",
          "name": "stdout",
          "text": [
            "<class 'float'>\n"
          ]
        }
      ]
    },
    {
      "cell_type": "code",
      "source": [
        "print(str('%.1f' % 攝氏溫度))"
      ],
      "metadata": {
        "colab": {
          "base_uri": "https://localhost:8080/"
        },
        "id": "xjyhDBiF4tv6",
        "outputId": "7a8c2e4f-5398-4e36-a678-5ae279cc8205"
      },
      "execution_count": 8,
      "outputs": [
        {
          "output_type": "stream",
          "name": "stdout",
          "text": [
            "37.8\n"
          ]
        }
      ]
    },
    {
      "cell_type": "code",
      "source": [
        "tmp = 0\n",
        "for i in range(1,6):\n",
        "  tmp +=i\n",
        "  print(\"%d\" % tmp)"
      ],
      "metadata": {
        "colab": {
          "base_uri": "https://localhost:8080/"
        },
        "id": "ShkvKzOd4xJy",
        "outputId": "9c138900-e7dc-4ad8-d17e-25e709b4f7b1"
      },
      "execution_count": 9,
      "outputs": [
        {
          "output_type": "stream",
          "name": "stdout",
          "text": [
            "1\n",
            "3\n",
            "6\n",
            "10\n",
            "15\n"
          ]
        }
      ]
    },
    {
      "cell_type": "code",
      "source": [
        "本金 = int(input(\"請輸入本金存款金額:\"))"
      ],
      "metadata": {
        "colab": {
          "base_uri": "https://localhost:8080/"
        },
        "id": "tLPniMUS40ci",
        "outputId": "2b8881a1-2bc9-4ca5-e44f-3b95ac7f9a58"
      },
      "execution_count": 10,
      "outputs": [
        {
          "name": "stdout",
          "output_type": "stream",
          "text": [
            "請輸入本金存款金額:10000\n"
          ]
        }
      ]
    },
    {
      "cell_type": "code",
      "source": [
        "時間 = int(input(\"請輸入年數:\"))"
      ],
      "metadata": {
        "colab": {
          "base_uri": "https://localhost:8080/"
        },
        "id": "3sLV3CGv44XL",
        "outputId": "82ded605-b7b8-4f0a-d3be-6d2e991b04d2"
      },
      "execution_count": 11,
      "outputs": [
        {
          "name": "stdout",
          "output_type": "stream",
          "text": [
            "請輸入年數:6\n"
          ]
        }
      ]
    },
    {
      "cell_type": "code",
      "source": [
        "未來本金 = 本金*(1+0.02)**6"
      ],
      "metadata": {
        "id": "m8Pyk_-7470D"
      },
      "execution_count": 12,
      "outputs": []
    },
    {
      "cell_type": "code",
      "source": [
        "未來本金"
      ],
      "metadata": {
        "colab": {
          "base_uri": "https://localhost:8080/"
        },
        "id": "P6OGpop1492j",
        "outputId": "e54648a3-d9ad-465d-8387-dfe5f29cf9a2"
      },
      "execution_count": 13,
      "outputs": [
        {
          "output_type": "execute_result",
          "data": {
            "text/plain": [
              "11261.62419264"
            ]
          },
          "metadata": {},
          "execution_count": 13
        }
      ]
    },
    {
      "cell_type": "code",
      "source": [
        "print(\"6年後存款為:\",未來本金)"
      ],
      "metadata": {
        "colab": {
          "base_uri": "https://localhost:8080/"
        },
        "id": "d3f1n0hO4_qb",
        "outputId": "373fdfab-0029-43a1-ef42-6d749371c8e2"
      },
      "execution_count": 14,
      "outputs": [
        {
          "output_type": "stream",
          "name": "stdout",
          "text": [
            "6年後存款為: 11261.62419264\n"
          ]
        }
      ]
    }
  ]
}