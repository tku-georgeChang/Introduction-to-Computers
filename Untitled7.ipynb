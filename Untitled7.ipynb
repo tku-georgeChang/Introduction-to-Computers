{
  "nbformat": 4,
  "nbformat_minor": 0,
  "metadata": {
    "colab": {
      "provenance": [],
      "authorship_tag": "ABX9TyNo108ZNiynxhvKfJgW8dtk",
      "include_colab_link": true
    },
    "kernelspec": {
      "name": "python3",
      "display_name": "Python 3"
    },
    "language_info": {
      "name": "python"
    }
  },
  "cells": [
    {
      "cell_type": "markdown",
      "metadata": {
        "id": "view-in-github",
        "colab_type": "text"
      },
      "source": [
        "<a href=\"https://colab.research.google.com/github/tku-georgeChang/Introduction-to-Computers/blob/main/Untitled7.ipynb\" target=\"_parent\"><img src=\"https://colab.research.google.com/assets/colab-badge.svg\" alt=\"Open In Colab\"/></a>"
      ]
    },
    {
      "cell_type": "code",
      "execution_count": null,
      "metadata": {
        "colab": {
          "base_uri": "https://localhost:8080/"
        },
        "id": "kGPrb0hi6A4_",
        "outputId": "8aaa683d-b95e-461f-80d0-8c1c62a84760"
      },
      "outputs": [
        {
          "output_type": "stream",
          "name": "stdout",
          "text": [
            "0515\n"
          ]
        }
      ],
      "source": [
        "print('0515')"
      ]
    },
    {
      "cell_type": "code",
      "source": [
        "rain = str(input(\"今天會下雨嗎?\"))\n",
        "if (rain==\"y\" or rain==\"Y\"):\n",
        "  print(\"出門記得帶傘!\")  \n",
        "elif (rain==\"n\" or rain==\"N\"):\n",
        "  print(\"今天天氣很好，出門不用帶傘\") \n",
        "else:\n",
        "   print(\"輸入錯誤\")"
      ],
      "metadata": {
        "colab": {
          "base_uri": "https://localhost:8080/"
        },
        "id": "W7H8Yapo6VDT",
        "outputId": "2ded6201-653f-473e-b1ec-28b1ad91ec9f"
      },
      "execution_count": null,
      "outputs": [
        {
          "output_type": "stream",
          "name": "stdout",
          "text": [
            "今天會下雨嗎?n\n",
            "今天天氣很好，出門不用帶傘\n"
          ]
        }
      ]
    },
    {
      "cell_type": "code",
      "source": [
        "rain = str(input(\"今天會下雨嗎?\"))\n",
        "if (rain==\"y\" or rain==\"Y\"):\n",
        "  print(\"出門記得帶傘!\")  \n",
        "elif (rain==\"n\" or rain==\"N\"):\n",
        "  print(\"今天天氣很好，出門不用帶傘\") \n",
        "else:\n",
        "   print(\"輸入錯誤\")"
      ],
      "metadata": {
        "colab": {
          "base_uri": "https://localhost:8080/"
        },
        "id": "9C7GfWUp6aVS",
        "outputId": "f0418e9f-08cc-417c-ab26-66a0e74a9d4f"
      },
      "execution_count": null,
      "outputs": [
        {
          "output_type": "stream",
          "name": "stdout",
          "text": [
            "今天會下雨嗎?s\n",
            "輸入錯誤\n"
          ]
        }
      ]
    },
    {
      "cell_type": "code",
      "source": [
        "temperature = float(input(\"請輸入體溫\"))\n",
        "if (temperature>=37.5): \n",
        "  print(\"體溫過高!\")  \n",
        "elif (37.4>temperature>37): \n",
        "  print(\"體溫略高!\")\n",
        "elif (36.9>temperature>34):\n",
        "  print(\"體溫正常!\")\n",
        "else : \n",
        "  print(\"體溫異常，請重新量測!\")"
      ],
      "metadata": {
        "colab": {
          "base_uri": "https://localhost:8080/"
        },
        "id": "X76-CdgZ6eP6",
        "outputId": "758cbb97-c62c-4c7c-f0d7-3477ed5e0c20"
      },
      "execution_count": null,
      "outputs": [
        {
          "output_type": "stream",
          "name": "stdout",
          "text": [
            "請輸入體溫30\n",
            "體溫異常，請重新量測!\n"
          ]
        }
      ]
    },
    {
      "cell_type": "code",
      "source": [
        "score = int(input(\"請輸入成績\"))\n",
        "if (score>=90): \n",
        "  print(\"A\")\n",
        "elif (89>score>80): \n",
        "  print(\"B\")  \n",
        "elif (79>score>70): \n",
        "  print(\"C\")\n",
        "elif (69>score>60): \n",
        "  print(\"D\")\n",
        "else :  \n",
        "  print(\"E\")"
      ],
      "metadata": {
        "colab": {
          "base_uri": "https://localhost:8080/"
        },
        "id": "teZ_-0UX6hzB",
        "outputId": "24609478-6712-4db0-d2ae-31ac87e1736c"
      },
      "execution_count": null,
      "outputs": [
        {
          "output_type": "stream",
          "name": "stdout",
          "text": [
            "請輸入成績90\n",
            "A\n"
          ]
        }
      ]
    },
    {
      "cell_type": "code",
      "source": [
        "month = int(input(\"請輸入月份：\"))\n",
        "\n",
        "if (month in [3, 4, 5]):\n",
        "    print(f\"{month}月是春天！\")\n",
        "elif (month in [6, 7, 8]):\n",
        "    print(f\"{month}月是夏天！\")\n",
        "elif (month in [9, 10, 11]):\n",
        "    print(f\"{month}月是秋天！\")\n",
        "elif (month in [12, 1, 2]):\n",
        "    print(f\"{month}月是冬天！\")\n",
        "else:\n",
        "    print(\"月份不在範圍內。\")"
      ],
      "metadata": {
        "colab": {
          "base_uri": "https://localhost:8080/"
        },
        "id": "3sO0ETGF6lNq",
        "outputId": "77b59b2f-1eb5-4586-c8d8-2753a86f8288"
      },
      "execution_count": null,
      "outputs": [
        {
          "output_type": "stream",
          "name": "stdout",
          "text": [
            "請輸入月份：15\n",
            "月份不在範圍內。\n"
          ]
        }
      ]
    },
    {
      "cell_type": "code",
      "source": [
        "income = int(input(\"請輸入收入金額：\"))\n",
        "\n",
        "if (income >= 2000000):\n",
        "    rate = 0.3\n",
        "elif (income >= 1000000):\n",
        "    rate = 0.21\n",
        "elif (income >= 600000):\n",
        "    rate = 0.13\n",
        "elif (income >= 300000):\n",
        "    rate = 0.06\n",
        "else :\n",
        "    rate = 0\n",
        "\n",
        "tax = income * rate\n",
        "print(f\"所得稅金額為：{tax}\")"
      ],
      "metadata": {
        "id": "dp2FEM5o6o-5",
        "outputId": "3eef3358-acab-40a8-9cba-871f1d46a73a",
        "colab": {
          "base_uri": "https://localhost:8080/"
        }
      },
      "execution_count": null,
      "outputs": [
        {
          "output_type": "stream",
          "name": "stdout",
          "text": [
            "請輸入收入金額：20000\n",
            "所得稅金額為：0\n"
          ]
        }
      ]
    }
  ]
}