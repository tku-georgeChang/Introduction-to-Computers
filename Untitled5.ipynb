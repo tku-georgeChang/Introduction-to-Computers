{
  "nbformat": 4,
  "nbformat_minor": 0,
  "metadata": {
    "colab": {
      "provenance": [],
      "authorship_tag": "ABX9TyMamvksvhfxhTWGkCtLBmFs",
      "include_colab_link": true
    },
    "kernelspec": {
      "name": "python3",
      "display_name": "Python 3"
    },
    "language_info": {
      "name": "python"
    }
  },
  "cells": [
    {
      "cell_type": "markdown",
      "metadata": {
        "id": "view-in-github",
        "colab_type": "text"
      },
      "source": [
        "<a href=\"https://colab.research.google.com/github/tku-georgeChang/Introduction-to-Computers/blob/main/Untitled5.ipynb\" target=\"_parent\"><img src=\"https://colab.research.google.com/assets/colab-badge.svg\" alt=\"Open In Colab\"/></a>"
      ]
    },
    {
      "cell_type": "code",
      "execution_count": 1,
      "metadata": {
        "colab": {
          "base_uri": "https://localhost:8080/"
        },
        "id": "OAv-_TTfwbOI",
        "outputId": "2d5c5c76-b6a7-4514-c03c-2846cef03670"
      },
      "outputs": [
        {
          "output_type": "stream",
          "name": "stdout",
          "text": [
            "0508\n"
          ]
        }
      ],
      "source": [
        "print(\"0508\")"
      ]
    },
    {
      "cell_type": "code",
      "source": [
        "score = int(input('請輸入分數:'))\n",
        "if score >= 60: \n",
        "  print('及格')\n",
        "else: \n",
        "  print('不及格')\n",
        "     "
      ],
      "metadata": {
        "colab": {
          "base_uri": "https://localhost:8080/"
        },
        "id": "97RQdtqew7X5",
        "outputId": "2ae838b5-324f-4e99-cb07-6814d3d450cd"
      },
      "execution_count": 2,
      "outputs": [
        {
          "output_type": "stream",
          "name": "stdout",
          "text": [
            "請輸入分數:40\n",
            "不及格\n"
          ]
        }
      ]
    },
    {
      "cell_type": "code",
      "source": [
        "設定密碼 = int(input(\"請設定一個四位數密碼:\"))"
      ],
      "metadata": {
        "colab": {
          "base_uri": "https://localhost:8080/"
        },
        "id": "eEDLpEphxDnB",
        "outputId": "328d26b8-8d65-4fcc-e988-d1d8078b0080"
      },
      "execution_count": 3,
      "outputs": [
        {
          "name": "stdout",
          "output_type": "stream",
          "text": [
            "請設定一個四位數密碼:1234\n"
          ]
        }
      ]
    },
    {
      "cell_type": "code",
      "source": [
        "通關密碼 = int(input(\"請輸入通密碼:\"))\n",
        "if (通關密碼 == 設定密碼):\n",
        "  print(\"歡迎光臨!\")"
      ],
      "metadata": {
        "colab": {
          "base_uri": "https://localhost:8080/"
        },
        "id": "1fX-YkoQxH0x",
        "outputId": "58627454-af02-4672-f4f3-7eecd465732a"
      },
      "execution_count": 4,
      "outputs": [
        {
          "output_type": "stream",
          "name": "stdout",
          "text": [
            "請輸入通密碼:1234\n",
            "歡迎光臨!\n"
          ]
        }
      ]
    },
    {
      "cell_type": "code",
      "source": [
        "通關密碼 = int(input(\"請輸入通密碼:\"))\n",
        "if (通關密碼 == 設定密碼):\n",
        "  print(\"歡迎光臨!\")"
      ],
      "metadata": {
        "colab": {
          "base_uri": "https://localhost:8080/"
        },
        "id": "UpL0ulIYxLUR",
        "outputId": "5ef1724c-6424-482e-80e6-dd0f119d42b2"
      },
      "execution_count": 5,
      "outputs": [
        {
          "name": "stdout",
          "output_type": "stream",
          "text": [
            "請輸入通密碼:5555\n"
          ]
        }
      ]
    },
    {
      "cell_type": "code",
      "source": [
        "通關密碼 = int(input(\"請輸入通密碼:\"))\n",
        "if (通關密碼 == 設定密碼):\n",
        "  print(\"歡迎光臨!\")\n",
        "else :\n",
        "  print(\"密碼錯誤\")"
      ],
      "metadata": {
        "colab": {
          "base_uri": "https://localhost:8080/"
        },
        "id": "L2y6CdYhxOV4",
        "outputId": "a13e43f4-9e54-41fd-eab4-e65454a176f3"
      },
      "execution_count": 6,
      "outputs": [
        {
          "output_type": "stream",
          "name": "stdout",
          "text": [
            "請輸入通密碼:5555\n",
            "密碼錯誤\n"
          ]
        }
      ]
    },
    {
      "cell_type": "code",
      "source": [
        "rain = str(input(\"今天會下雨嗎?\"))\n",
        "if (rain==\"y\" or rain==\"Y\"):\n",
        "  print(\"出門記得帶傘!\")"
      ],
      "metadata": {
        "colab": {
          "base_uri": "https://localhost:8080/"
        },
        "id": "lo4dNYhRxSiA",
        "outputId": "15fd277d-0cba-42e1-e352-854562456d49"
      },
      "execution_count": 7,
      "outputs": [
        {
          "output_type": "stream",
          "name": "stdout",
          "text": [
            "今天會下雨嗎?y\n",
            "出門記得帶傘!\n"
          ]
        }
      ]
    },
    {
      "cell_type": "code",
      "source": [
        "number = int(input(\"請輸入正整數:\"))\n",
        "if (number%2 == 0):\n",
        "  print(number,\"為偶數!\")\n",
        "else :\n",
        "  print(number,\"為奇數!\")"
      ],
      "metadata": {
        "colab": {
          "base_uri": "https://localhost:8080/"
        },
        "id": "gFWaMo5vxXCw",
        "outputId": "865f1f1a-b22e-43b2-e099-969b9f4e41de"
      },
      "execution_count": 8,
      "outputs": [
        {
          "output_type": "stream",
          "name": "stdout",
          "text": [
            "請輸入正整數:14\n",
            "14 為偶數!\n"
          ]
        }
      ]
    },
    {
      "cell_type": "code",
      "source": [
        "number = int(input(\"請輸入正整數:\"))\n",
        "if (number%2 == 0):\n",
        "  print(number,\"為偶數!\")\n",
        "else :\n",
        "  print(number,\"為奇數!\")"
      ],
      "metadata": {
        "id": "pC9hC8WBxbTw",
        "outputId": "fde2b3e5-10e9-47a7-f964-1fbddbbe146d",
        "colab": {
          "base_uri": "https://localhost:8080/"
        }
      },
      "execution_count": 9,
      "outputs": [
        {
          "output_type": "stream",
          "name": "stdout",
          "text": [
            "請輸入正整數:3\n",
            "3 為奇數!\n"
          ]
        }
      ]
    }
  ]
}